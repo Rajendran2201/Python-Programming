{
  "nbformat": 4,
  "nbformat_minor": 0,
  "metadata": {
    "colab": {
      "provenance": []
    },
    "kernelspec": {
      "name": "python3",
      "display_name": "Python 3"
    },
    "language_info": {
      "name": "python"
    }
  },
  "cells": [
    {
      "cell_type": "markdown",
      "source": [
        "# **Functions**"
      ],
      "metadata": {
        "id": "2JNiAPP5sBg_"
      }
    },
    {
      "cell_type": "markdown",
      "source": [
        "A function is a block of code / statements written to do a specific task. The inputs provided to the functions are called as arguments. Functions can be written in python without specifying the data types of the return type and  arguments."
      ],
      "metadata": {
        "id": "uQ4K5t28kK7R"
      }
    },
    {
      "cell_type": "markdown",
      "source": [
        "Python Functions is a block of statements that return the specific task. The idea is to put some commonly or repeatedly done tasks together and make a function so that instead of writing the same code again and again for different inputs, we can do the function calls to reuse code contained in it over and over again."
      ],
      "metadata": {
        "id": "SvE9sDg3lhgo"
      }
    },
    {
      "cell_type": "markdown",
      "source": [
        "To define a function in Python you can use the def keyword and then write the function name. You can provide the function code after using ‘:’. Basic syntax to define a function is:\n",
        "\n",
        "def function_name():\n",
        "\n",
        "Function code"
      ],
      "metadata": {
        "id": "FVlhr5tmm3ze"
      }
    },
    {
      "cell_type": "code",
      "execution_count": 2,
      "metadata": {
        "id": "cJZONoeikGNb"
      },
      "outputs": [],
      "source": [
        "# function prototype\n",
        "\n",
        "def calculate(a, b):\n",
        "  pass"
      ]
    },
    {
      "cell_type": "code",
      "source": [
        "# function definition\n",
        "\n",
        "def calculate(a, b):\n",
        "  return a+b"
      ],
      "metadata": {
        "id": "hdDm1a5CkwtD"
      },
      "execution_count": 3,
      "outputs": []
    },
    {
      "cell_type": "code",
      "source": [
        "# function call\n",
        "\n",
        "calculate(2,3)"
      ],
      "metadata": {
        "colab": {
          "base_uri": "https://localhost:8080/"
        },
        "id": "6QCKg6OEk53z",
        "outputId": "984316b9-a2eb-410d-b9d8-05e48975e043"
      },
      "execution_count": 4,
      "outputs": [
        {
          "output_type": "execute_result",
          "data": {
            "text/plain": [
              "5"
            ]
          },
          "metadata": {},
          "execution_count": 4
        }
      ]
    },
    {
      "cell_type": "markdown",
      "source": [
        "Function to greet you !"
      ],
      "metadata": {
        "id": "jVDWVD65mSvJ"
      }
    },
    {
      "cell_type": "code",
      "source": [
        "def greet(name):\n",
        "  print(\"Hello\", name)\n",
        "\n",
        "greet(\"Raj\")"
      ],
      "metadata": {
        "colab": {
          "base_uri": "https://localhost:8080/"
        },
        "id": "Sjhl7n2emU2m",
        "outputId": "c8ce672c-8c5f-495b-8a4e-7b3e407ddd33"
      },
      "execution_count": 8,
      "outputs": [
        {
          "output_type": "stream",
          "name": "stdout",
          "text": [
            "Hello Raj\n"
          ]
        }
      ]
    },
    {
      "cell_type": "markdown",
      "source": [
        "The main purpose of using functions is\n",
        "\n",
        "- Readability\n",
        "- Modularity\n",
        "- Split the code into parts\n",
        "\n",
        "```Indentation``` is very important while writing the functions. The block of statements written inside the function should be right indented."
      ],
      "metadata": {
        "id": "kk5zjDhLk-lE"
      }
    },
    {
      "cell_type": "markdown",
      "source": [
        "Parameters in Python are the variables that take the values passed as arguments when calling the functions. A function can have any number of parameters. You can also set default value to a parameter in Python."
      ],
      "metadata": {
        "id": "gMd5IAaVm_a2"
      }
    },
    {
      "cell_type": "markdown",
      "source": [
        "**Types of Python Function Arguments**\n",
        "\n",
        "Python supports various types of arguments that can be passed at the time of the function call. In Python, we have the following 4 types of function arguments.\n",
        "\n",
        "- Default argument\n",
        "- Keyword arguments (named arguments)\n",
        "- Positional arguments\n",
        "- Arbitrary arguments (variable-length arguments *args and **kwargs)"
      ],
      "metadata": {
        "id": "vYwcWxEmlr7B"
      }
    },
    {
      "cell_type": "markdown",
      "source": [
        "**Default Parameters** : A default argument is a parameter that assumes a default value if a value is not provided in the function call for that argument. The following example illustrates Default arguments."
      ],
      "metadata": {
        "id": "35fQ8kHUlUcN"
      }
    },
    {
      "cell_type": "code",
      "source": [
        "def square(x, y=2):\n",
        "  return x**y\n",
        "\n",
        "square(10)"
      ],
      "metadata": {
        "colab": {
          "base_uri": "https://localhost:8080/"
        },
        "id": "iybaNjk2k8Ja",
        "outputId": "012c5c73-7492-49f2-81ee-863110f69bca"
      },
      "execution_count": 5,
      "outputs": [
        {
          "output_type": "execute_result",
          "data": {
            "text/plain": [
              "100"
            ]
          },
          "metadata": {},
          "execution_count": 5
        }
      ]
    },
    {
      "cell_type": "code",
      "source": [
        "def greet(name = 'raj'):\n",
        "  print(\"Hello\", name)\n",
        "\n",
        "greet()"
      ],
      "metadata": {
        "colab": {
          "base_uri": "https://localhost:8080/"
        },
        "id": "dPbFYRvmmMo3",
        "outputId": "95c24468-c27f-4221-bba4-0a0f7002894b"
      },
      "execution_count": 10,
      "outputs": [
        {
          "output_type": "stream",
          "name": "stdout",
          "text": [
            "Hello raj\n"
          ]
        }
      ]
    },
    {
      "cell_type": "markdown",
      "source": [
        "**Keyword Arguments**\n",
        "\n",
        "The idea is to allow the caller to specify the argument name with values so that the caller does not need to remember the order of parameters."
      ],
      "metadata": {
        "id": "SVwXqscrt-7y"
      }
    },
    {
      "cell_type": "code",
      "source": [
        "def are_you_happy(food, sleep):\n",
        "  if food == True and sleep == True :\n",
        "    return 'happy'\n",
        "  else :\n",
        "    return 'sad'\n",
        "\n",
        "are_you_happy(sleep = False, food = True)"
      ],
      "metadata": {
        "colab": {
          "base_uri": "https://localhost:8080/",
          "height": 35
        },
        "id": "zfDBv9F6uAxU",
        "outputId": "ac39b4a5-e04d-4c67-be68-ab68955e8243"
      },
      "execution_count": 35,
      "outputs": [
        {
          "output_type": "execute_result",
          "data": {
            "text/plain": [
              "'sad'"
            ],
            "application/vnd.google.colaboratory.intrinsic+json": {
              "type": "string"
            }
          },
          "metadata": {},
          "execution_count": 35
        }
      ]
    },
    {
      "cell_type": "markdown",
      "source": [
        "**Positional Arguments**\n",
        "\n",
        "We used the Position argument during the function call so that the first argument (or value) is assigned to name and the second argument (or value) is assigned to age. By changing the position, or if you forget the order of the positions, the values can be used in the wrong places, as shown in the Case-2 example below, where 27 is assigned to the name and Suraj is assigned to the age."
      ],
      "metadata": {
        "id": "IXKRDHImujkO"
      }
    },
    {
      "cell_type": "code",
      "source": [
        "def nameAge(name, age):\n",
        "\tprint(\"Hi, I am\", name)\n",
        "\tprint(\"My age is\", age)\n",
        "\n",
        "\n",
        "# You will get correct output because\n",
        "# argument is given in order\n",
        "print(\"Case-1:\")\n",
        "nameAge(\"raj\", 27)\n",
        "# You will get incorrect output because\n",
        "# argument is not in order\n",
        "print(\"\\nCase-2:\")\n",
        "nameAge(27, \"raj\")\n"
      ],
      "metadata": {
        "colab": {
          "base_uri": "https://localhost:8080/"
        },
        "id": "WJTS9JEfutUq",
        "outputId": "0ccc20b2-366a-432a-9038-7be85df48fc5"
      },
      "execution_count": 38,
      "outputs": [
        {
          "output_type": "stream",
          "name": "stdout",
          "text": [
            "Case-1:\n",
            "Hi, I am raj\n",
            "My age is 27\n",
            "\n",
            "Case-2:\n",
            "Hi, I am 27\n",
            "My age is raj\n"
          ]
        }
      ]
    },
    {
      "cell_type": "markdown",
      "source": [
        "**Arbitrary Keyword  Arguments**\n",
        "\n",
        "In Python Arbitrary Keyword Arguments, *args, and **kwargs can pass a variable number of arguments to a function using special symbols. There are two special symbols:\n",
        "\n",
        "*args in Python (Non-Keyword Arguments) - type : tuple\n",
        "\n",
        "**kwargs in Python (Keyword Arguments) - type : dictionary\n"
      ],
      "metadata": {
        "id": "A0v2pVu-qOmS"
      }
    },
    {
      "cell_type": "code",
      "source": [
        "def print_names(*names):\n",
        "  for name in names :\n",
        "    print(\"Hello\",name)\n",
        "\n",
        "print_names(\"Raj\",\"sino\",\"krishi\")"
      ],
      "metadata": {
        "colab": {
          "base_uri": "https://localhost:8080/"
        },
        "id": "hVomgwQbqfSp",
        "outputId": "6eed769b-cf3a-4229-cbeb-6ee3af3ae973"
      },
      "execution_count": 20,
      "outputs": [
        {
          "output_type": "stream",
          "name": "stdout",
          "text": [
            "Hello Raj\n",
            "Hello sino\n",
            "Hello krishi\n"
          ]
        }
      ]
    },
    {
      "cell_type": "code",
      "source": [
        "def type_of_arguments_1(**languages):\n",
        "  print(languages['second'])\n",
        "  print(type(languages))\n",
        "\n",
        "\n",
        "type_of_arguments_1(**{'first' : 'C++', 'second' : 'Python', 'third' : 'Java', 'fourth' : 'C', 'fifth' : 'R', 'sixth' : 'C#', 'seventh' : 'Javascript'})"
      ],
      "metadata": {
        "colab": {
          "base_uri": "https://localhost:8080/"
        },
        "id": "_4ltHbBpsgDp",
        "outputId": "fcbb7253-bce6-49f4-d183-37e62e7f2ceb"
      },
      "execution_count": 32,
      "outputs": [
        {
          "output_type": "stream",
          "name": "stdout",
          "text": [
            "Python\n",
            "<class 'dict'>\n"
          ]
        }
      ]
    },
    {
      "cell_type": "code",
      "source": [
        "def type_of_arguments_2(*languages):\n",
        "    print(languages[1])\n",
        "    print(type(languages))\n",
        "\n",
        "type_of_arguments_2('C++', 'Python', 'Java', 'C', 'R', 'C#', 'Javascript')\n"
      ],
      "metadata": {
        "colab": {
          "base_uri": "https://localhost:8080/"
        },
        "id": "Pmv3oN76ts5x",
        "outputId": "0bf25d22-e692-4674-c77b-376d7b8d3d54"
      },
      "execution_count": 33,
      "outputs": [
        {
          "output_type": "stream",
          "name": "stdout",
          "text": [
            "Python\n",
            "<class 'tuple'>\n"
          ]
        }
      ]
    },
    {
      "cell_type": "markdown",
      "source": [
        "**Docstring**\n",
        "\n",
        "The first string after the function is called the Document string or Docstring in short. This is used to describe the functionality of the function. The use of docstring in functions is optional but it is considered a good practice.\n",
        "\n",
        "The below syntax can be used to print out the docstring of a function:\n",
        "\n",
        "Syntax: print(function_name.__doc__)"
      ],
      "metadata": {
        "id": "5OVSIPEVq2Nr"
      }
    },
    {
      "cell_type": "code",
      "source": [
        "def is_sleepy(first_period, had_good_bf):\n",
        "  ''' This function is to check if you feel sleepy or not'''\n",
        "  if first_period == True and had_good_bf == True :\n",
        "    return 'sleepy'\n",
        "  return 'not sleepy'\n",
        "\n",
        "print(is_sleepy.__doc__)    # prints the documentation of a specific function"
      ],
      "metadata": {
        "colab": {
          "base_uri": "https://localhost:8080/"
        },
        "id": "6f0khW2rq3-3",
        "outputId": "5c2aa520-da67-4cd6-c0a4-52d6bac36229"
      },
      "execution_count": 23,
      "outputs": [
        {
          "output_type": "stream",
          "name": "stdout",
          "text": [
            " This function is to check if you feel sleepy or not\n"
          ]
        }
      ]
    },
    {
      "cell_type": "markdown",
      "source": [
        "Let's print the documentation of print() function"
      ],
      "metadata": {
        "id": "NKqRbLIZrqja"
      }
    },
    {
      "cell_type": "code",
      "source": [
        "print(print.__doc__)"
      ],
      "metadata": {
        "colab": {
          "base_uri": "https://localhost:8080/"
        },
        "id": "we9mYdn2rctp",
        "outputId": "7bce91c5-8d92-41a2-8a0d-ad6e99f8b452"
      },
      "execution_count": 24,
      "outputs": [
        {
          "output_type": "stream",
          "name": "stdout",
          "text": [
            "print(value, ..., sep=' ', end='\\n', file=sys.stdout, flush=False)\n",
            "\n",
            "Prints the values to a stream, or to sys.stdout by default.\n",
            "Optional keyword arguments:\n",
            "file:  a file-like object (stream); defaults to the current sys.stdout.\n",
            "sep:   string inserted between values, default a space.\n",
            "end:   string appended after the last value, default a newline.\n",
            "flush: whether to forcibly flush the stream.\n"
          ]
        }
      ]
    },
    {
      "cell_type": "markdown",
      "source": [
        "**Global Scope**\n",
        "\n",
        "A variable created in the main body of the Python code is a global variable and belongs to the global scope.\n",
        "\n",
        "Global variables are available from within any scope, global and local."
      ],
      "metadata": {
        "id": "BH1bsrvInd9n"
      }
    },
    {
      "cell_type": "code",
      "source": [
        "x = 18\n",
        "\n",
        "def wish():\n",
        "  ''' This function is to wish kevin a happy birthday '''\n",
        "  print(f\"Huraaaehhhh! You are {x} now !\")\n",
        "\n",
        "wish()"
      ],
      "metadata": {
        "colab": {
          "base_uri": "https://localhost:8080/"
        },
        "id": "-n0oXXYEmfAR",
        "outputId": "7cdddb34-c818-46a0-a8fe-afb4635d6d21"
      },
      "execution_count": 11,
      "outputs": [
        {
          "output_type": "stream",
          "name": "stdout",
          "text": [
            "Huraaaehhhh! You are 18 now !\n"
          ]
        }
      ]
    },
    {
      "cell_type": "code",
      "source": [
        "def dob():\n",
        "  bornday = 22\n",
        "  print(\"I was born on \", bornday)\n",
        "\n",
        "dob()\n",
        "print(\"I was born on January\",bornday)     # we cannot access the variable 'bornday' as it was defined in the local scope"
      ],
      "metadata": {
        "colab": {
          "base_uri": "https://localhost:8080/",
          "height": 190
        },
        "id": "x6uh9Lwfow1d",
        "outputId": "ac4880e2-29d1-4676-d992-5d4bc470c650"
      },
      "execution_count": 15,
      "outputs": [
        {
          "output_type": "stream",
          "name": "stdout",
          "text": [
            "I was born on  22\n"
          ]
        },
        {
          "output_type": "error",
          "ename": "NameError",
          "evalue": "name 'bornday' is not defined",
          "traceback": [
            "\u001b[0;31m---------------------------------------------------------------------------\u001b[0m",
            "\u001b[0;31mNameError\u001b[0m                                 Traceback (most recent call last)",
            "\u001b[0;32m<ipython-input-15-a7ef21190180>\u001b[0m in \u001b[0;36m<cell line: 6>\u001b[0;34m()\u001b[0m\n\u001b[1;32m      4\u001b[0m \u001b[0;34m\u001b[0m\u001b[0m\n\u001b[1;32m      5\u001b[0m \u001b[0mdob\u001b[0m\u001b[0;34m(\u001b[0m\u001b[0;34m)\u001b[0m\u001b[0;34m\u001b[0m\u001b[0;34m\u001b[0m\u001b[0m\n\u001b[0;32m----> 6\u001b[0;31m \u001b[0mprint\u001b[0m\u001b[0;34m(\u001b[0m\u001b[0;34m\"I was born on January\"\u001b[0m\u001b[0;34m,\u001b[0m\u001b[0mbornday\u001b[0m\u001b[0;34m)\u001b[0m\u001b[0;34m\u001b[0m\u001b[0;34m\u001b[0m\u001b[0m\n\u001b[0m",
            "\u001b[0;31mNameError\u001b[0m: name 'bornday' is not defined"
          ]
        }
      ]
    },
    {
      "cell_type": "markdown",
      "source": [
        "you want to define a variable inside a function but in global scope, make use of the keyword ```global```"
      ],
      "metadata": {
        "id": "GSgJVFzsoCzv"
      }
    },
    {
      "cell_type": "code",
      "source": [
        "def dob():\n",
        "  global birthday\n",
        "  birthday = 22\n",
        "  print(\"I was born on \", birthday)\n",
        "\n",
        "dob()\n",
        "print(\"I was born on January\",birthday)     # the variable 'birthday' can be accessed outside the function as it is defined with the keyword \"global\""
      ],
      "metadata": {
        "colab": {
          "base_uri": "https://localhost:8080/"
        },
        "id": "ioPocIxLnyiv",
        "outputId": "37274de5-9020-4ac7-9080-7c2789f3434a"
      },
      "execution_count": 13,
      "outputs": [
        {
          "output_type": "stream",
          "name": "stdout",
          "text": [
            "I was born on  22\n",
            "I was born on January 22\n"
          ]
        }
      ]
    },
    {
      "cell_type": "markdown",
      "source": [
        "# Lambda Functions"
      ],
      "metadata": {
        "id": "NRLwRx3dpNmX"
      }
    },
    {
      "cell_type": "markdown",
      "source": [
        "A lambda function is a small anonymous function.\n",
        "\n",
        "A lambda function can take any number of arguments, but can only have one expression."
      ],
      "metadata": {
        "id": "Lr_10k6WpMVE"
      }
    },
    {
      "cell_type": "markdown",
      "source": [
        "Syntax: ```lambda arguments : expression```\n",
        "\n",
        "- This function can have any number of arguments but only one expression, which is evaluated and returned.\n",
        "- One is free to use lambda functions wherever function objects are required.\n",
        "- You need to keep in your knowledge that lambda functions are syntactically restricted to a single expression.\n",
        "- It has various uses in particular fields of programming, besides other types of expressions in functions."
      ],
      "metadata": {
        "id": "XCswnzr7p4gO"
      }
    },
    {
      "cell_type": "code",
      "source": [
        "num = int(input(\"Enter a number : \"))\n",
        "square = lambda a : a**2\n",
        "print(f\"The square of {num} is {square(num)}\")"
      ],
      "metadata": {
        "colab": {
          "base_uri": "https://localhost:8080/"
        },
        "id": "E_qkNYQmoYKR",
        "outputId": "fb8ba432-af2f-4721-dc74-4441d7d52603"
      },
      "execution_count": 19,
      "outputs": [
        {
          "output_type": "stream",
          "name": "stdout",
          "text": [
            "Enter a number : 23\n",
            "The square of 23 is 529\n"
          ]
        }
      ]
    },
    {
      "cell_type": "markdown",
      "source": [
        "The main types of functions in Python are:\n",
        "\n",
        "- Built-in function\n",
        "- User-defined function\n",
        "- Lambda functions\n",
        "- Recursive functions"
      ],
      "metadata": {
        "id": "0UE7upYhqEeQ"
      }
    },
    {
      "cell_type": "markdown",
      "source": [
        "### **Recursion**\n",
        "\n",
        "The term Recursion can be defined as the process of defining something in terms of itself. In simple words, it is a process in which a function calls itself directly or indirectly."
      ],
      "metadata": {
        "id": "Ke4BpLzhu8sQ"
      }
    },
    {
      "cell_type": "markdown",
      "source": [
        "*Advantages of using recursion*\n",
        "\n",
        "- A complicated function can be split down into smaller sub-problems utilizing recursion.\n",
        "- Sequence creation is simpler through recursion than utilizing any nested iteration.\n",
        "- Recursive functions render the code look simple and effective."
      ],
      "metadata": {
        "id": "CtN-Z9-3vC_N"
      }
    },
    {
      "cell_type": "markdown",
      "source": [
        "Let's write a code to print odd numbers from 0 to 15"
      ],
      "metadata": {
        "id": "7aIJI0gCvYs_"
      }
    },
    {
      "cell_type": "code",
      "source": [
        "def odd_numbers(n):\n",
        "  if n > 15 :\n",
        "    return\n",
        "\n",
        "  if n & 1 != 0:\n",
        "    print(n,end = \", \")\n",
        "  return odd_numbers(n+1)"
      ],
      "metadata": {
        "id": "X47_Xjsbr0tg"
      },
      "execution_count": 41,
      "outputs": []
    },
    {
      "cell_type": "code",
      "source": [
        "odd_numbers(15)"
      ],
      "metadata": {
        "colab": {
          "base_uri": "https://localhost:8080/"
        },
        "id": "ZXDRPB0apdKk",
        "outputId": "f213daf0-aac0-43e3-faae-8738ea728dcb"
      },
      "execution_count": 40,
      "outputs": [
        {
          "output_type": "stream",
          "name": "stdout",
          "text": [
            "1, 3, 5, 7, 9, 11, 13, 15, "
          ]
        }
      ]
    },
    {
      "cell_type": "markdown",
      "source": [
        "**Memory Allocation in Recursion**\n",
        "\n",
        "- When a function is called, its memory is allocated on a stack.\n",
        "- Stacks in computing architectures are the regions of memory where data is added or removed in a last-in-first-out (LIFO) process.\n",
        "- Each program has a reserved region of memory referred to as its stack.\n",
        "- When a function executes, it adds its state data to the top of the stack.\n",
        "-  When the function exits, this data is removed from the stack."
      ],
      "metadata": {
        "id": "FvyA9d9_w9ce"
      }
    },
    {
      "cell_type": "code",
      "source": [
        " def factorial(targetNumber) :\n",
        "  # Base case\n",
        "  if targetNumber < 2 : # Factorial of 1 and 0 is 1\n",
        "    return 1\n",
        "\n",
        "  # Recursive case\n",
        "  return (targetNumber * factorial(targetNumber - 1)) # Factorial of any other number is\n",
        "                                                  # number multiplied by factorial of number - 1\n",
        "\n",
        "# Driver Code\n",
        "targetNumber = 5\n",
        "result = factorial(targetNumber)\n",
        "print(f\"The factorial of {targetNumber} is: {result}\")"
      ],
      "metadata": {
        "colab": {
          "base_uri": "https://localhost:8080/"
        },
        "id": "axGh4bWXvwgR",
        "outputId": "56053380-9f08-4725-e773-9e402494421a"
      },
      "execution_count": 44,
      "outputs": [
        {
          "output_type": "stream",
          "name": "stdout",
          "text": [
            "The factorial of 5 is: 120\n"
          ]
        }
      ]
    },
    {
      "cell_type": "markdown",
      "source": [
        "code for Fibonacci Series"
      ],
      "metadata": {
        "id": "QehXun4uyopc"
      }
    },
    {
      "cell_type": "code",
      "source": [
        "def fibonacci(n) :\n",
        "  if n == 0 :\n",
        "    return 0\n",
        "  elif n == 1 or n == 2 :\n",
        "    return 1\n",
        "  return fibonacci(n-1) + fibonacci(n-2)\n",
        "\n",
        "for i in range(10):\n",
        "  print(fibonacci(i))"
      ],
      "metadata": {
        "colab": {
          "base_uri": "https://localhost:8080/"
        },
        "id": "LR9qTRyPxNAp",
        "outputId": "6da9031c-a770-4446-f028-bd8756656d65"
      },
      "execution_count": 46,
      "outputs": [
        {
          "output_type": "stream",
          "name": "stdout",
          "text": [
            "0\n",
            "1\n",
            "1\n",
            "2\n",
            "3\n",
            "5\n",
            "8\n",
            "13\n",
            "21\n",
            "34\n"
          ]
        }
      ]
    },
    {
      "cell_type": "markdown",
      "source": [
        "Code for fibonacci series to print fibonacci series till 15"
      ],
      "metadata": {
        "id": "S4oZ_7SXzjgv"
      }
    },
    {
      "cell_type": "code",
      "source": [
        "def fibonacci(n) :\n",
        "  if n == 0 :\n",
        "    return 0\n",
        "  elif n == 1 or n == 2 :\n",
        "    return 1\n",
        "  return fibonacci(n-1) + fibonacci(n-2)\n",
        "\n",
        "for i in range(10):\n",
        "  result = fibonacci(i)\n",
        "  if result > 15:\n",
        "    break\n",
        "  print(result)"
      ],
      "metadata": {
        "colab": {
          "base_uri": "https://localhost:8080/"
        },
        "id": "UChdueUTzaC1",
        "outputId": "49f052f0-d2b0-4977-cab2-a27ba284dd09"
      },
      "execution_count": 48,
      "outputs": [
        {
          "output_type": "stream",
          "name": "stdout",
          "text": [
            "0\n",
            "1\n",
            "1\n",
            "2\n",
            "3\n",
            "5\n",
            "8\n",
            "13\n"
          ]
        }
      ]
    }
  ]
}