{
  "nbformat": 4,
  "nbformat_minor": 0,
  "metadata": {
    "colab": {
      "provenance": []
    },
    "kernelspec": {
      "name": "python3",
      "display_name": "Python 3"
    },
    "language_info": {
      "name": "python"
    }
  },
  "cells": [
    {
      "cell_type": "markdown",
      "source": [
        "# String Functions"
      ],
      "metadata": {
        "id": "YiQJYBHqpTKc"
      }
    },
    {
      "cell_type": "markdown",
      "source": [
        "Strings in python are surrounded by either single quotation marks, or double quotation marks.\n",
        "\n",
        "'hello' is the same as \"hello\".\n",
        "\n",
        "You can display a string literal with the print() function:"
      ],
      "metadata": {
        "id": "e9SjB3Bwr_yZ"
      }
    },
    {
      "cell_type": "code",
      "source": [
        "my_str = 'raja'\n",
        "print(my_str)"
      ],
      "metadata": {
        "colab": {
          "base_uri": "https://localhost:8080/"
        },
        "id": "BsYe34fosBBD",
        "outputId": "ef1daacf-a561-426c-dcbb-0a14e781e9b9"
      },
      "execution_count": 12,
      "outputs": [
        {
          "output_type": "stream",
          "name": "stdout",
          "text": [
            "raja\n"
          ]
        }
      ]
    },
    {
      "cell_type": "markdown",
      "source": [
        "### Multiline Strings\n",
        "You can assign a multiline string to a variable by using three quotes:"
      ],
      "metadata": {
        "id": "U6JYHne5sJjx"
      }
    },
    {
      "cell_type": "code",
      "source": [
        "a = \"\"\"Lorem ipsum dolor sit amet,\n",
        "consectetur adipiscing elit,\n",
        "sed do eiusmod tempor incididunt\n",
        "ut labore et dolore magna aliqua.\"\"\"\n",
        "print(a)"
      ],
      "metadata": {
        "colab": {
          "base_uri": "https://localhost:8080/"
        },
        "id": "TZlbMrD4sLvJ",
        "outputId": "baead4d2-fa9d-4db3-fd0c-4574c3a6f1a9"
      },
      "execution_count": 13,
      "outputs": [
        {
          "output_type": "stream",
          "name": "stdout",
          "text": [
            "Lorem ipsum dolor sit amet,\n",
            "consectetur adipiscing elit,\n",
            "sed do eiusmod tempor incididunt\n",
            "ut labore et dolore magna aliqua.\n"
          ]
        }
      ]
    },
    {
      "cell_type": "markdown",
      "source": [
        "###Strings are Arrays\n",
        "Like many other popular programming languages, strings in Python are arrays of bytes representing unicode characters.\n",
        "\n",
        "However, Python does not have a character data type, a single character is simply a string with a length of 1.\n",
        "\n",
        "Square brackets can be used to access elements of the string."
      ],
      "metadata": {
        "id": "iOMVEeHZsRAO"
      }
    },
    {
      "cell_type": "code",
      "source": [
        "a = \"Hello, World!\"\n",
        "print(a[1])"
      ],
      "metadata": {
        "colab": {
          "base_uri": "https://localhost:8080/"
        },
        "id": "jHAHqdRLsT6M",
        "outputId": "b61f4c72-2f6d-4df7-cb00-81ef132896dd"
      },
      "execution_count": 14,
      "outputs": [
        {
          "output_type": "stream",
          "name": "stdout",
          "text": [
            "e\n"
          ]
        }
      ]
    },
    {
      "cell_type": "markdown",
      "source": [
        "###Slicing\n",
        "You can return a range of characters by using the slice syntax.\n",
        "\n",
        "Specify the start index and the end index, separated by a colon, to return a part of the string."
      ],
      "metadata": {
        "id": "57M0GDo8sZDX"
      }
    },
    {
      "cell_type": "code",
      "source": [
        "my_name = 'Rajendran'\n",
        "print(my_name[3:7])"
      ],
      "metadata": {
        "colab": {
          "base_uri": "https://localhost:8080/"
        },
        "id": "-_q8lC8bsawM",
        "outputId": "4adc1250-c3e9-4266-d900-7c3cafa2c514"
      },
      "execution_count": 15,
      "outputs": [
        {
          "output_type": "stream",
          "name": "stdout",
          "text": [
            "endr\n"
          ]
        }
      ]
    },
    {
      "cell_type": "markdown",
      "source": [
        "## Modifying the strings"
      ],
      "metadata": {
        "id": "UT8T8yc3slts"
      }
    },
    {
      "cell_type": "markdown",
      "source": [
        "lower() and upper() functions helps to capitalise and lowerise the strings"
      ],
      "metadata": {
        "id": "AIXil4UcpywG"
      }
    },
    {
      "cell_type": "code",
      "source": [
        "str0 = 'RAJ'\n",
        "str0.lower()"
      ],
      "metadata": {
        "colab": {
          "base_uri": "https://localhost:8080/",
          "height": 35
        },
        "id": "MEUTbi7Spj5M",
        "outputId": "2b8af3b1-65e0-463b-9195-a3200fceb419"
      },
      "execution_count": 3,
      "outputs": [
        {
          "output_type": "execute_result",
          "data": {
            "text/plain": [
              "'raj'"
            ],
            "application/vnd.google.colaboratory.intrinsic+json": {
              "type": "string"
            }
          },
          "metadata": {},
          "execution_count": 3
        }
      ]
    },
    {
      "cell_type": "code",
      "execution_count": 1,
      "metadata": {
        "colab": {
          "base_uri": "https://localhost:8080/",
          "height": 35
        },
        "id": "DePqYZyfpQaV",
        "outputId": "05321fed-da3e-486f-8434-3606c1f7873b"
      },
      "outputs": [
        {
          "output_type": "execute_result",
          "data": {
            "text/plain": [
              "'RAJ'"
            ],
            "application/vnd.google.colaboratory.intrinsic+json": {
              "type": "string"
            }
          },
          "metadata": {},
          "execution_count": 1
        }
      ],
      "source": [
        "str1 = 'raj'\n",
        "str1.upper()"
      ]
    },
    {
      "cell_type": "markdown",
      "source": [
        "count() is used to count the number of occurrences of a substring in a string"
      ],
      "metadata": {
        "id": "IRb0bGx3p4ga"
      }
    },
    {
      "cell_type": "code",
      "source": [
        "str2 = 'This is a sample text'\n",
        "str2.count('is')"
      ],
      "metadata": {
        "colab": {
          "base_uri": "https://localhost:8080/"
        },
        "id": "_1sPHlzspcOJ",
        "outputId": "af8844ff-5ab2-4586-e828-d90cb7726cde"
      },
      "execution_count": 2,
      "outputs": [
        {
          "output_type": "execute_result",
          "data": {
            "text/plain": [
              "2"
            ]
          },
          "metadata": {},
          "execution_count": 2
        }
      ]
    },
    {
      "cell_type": "markdown",
      "source": [
        "**Concatenation** : '+' is called as concatenation operator which is used to concatenate two or more strings"
      ],
      "metadata": {
        "id": "2bA4JFn3p8xa"
      }
    },
    {
      "cell_type": "code",
      "source": [
        "str3 = 'Hello'\n",
        "str4 = 'Python'\n",
        "str3 + str4"
      ],
      "metadata": {
        "colab": {
          "base_uri": "https://localhost:8080/",
          "height": 35
        },
        "id": "I1X51ekyphY0",
        "outputId": "ccaac051-0116-4c22-f0af-583aac554efa"
      },
      "execution_count": 4,
      "outputs": [
        {
          "output_type": "execute_result",
          "data": {
            "text/plain": [
              "'HelloPython'"
            ],
            "application/vnd.google.colaboratory.intrinsic+json": {
              "type": "string"
            }
          },
          "metadata": {},
          "execution_count": 4
        }
      ]
    },
    {
      "cell_type": "markdown",
      "source": [
        "find() helps us to find the index of the first occurrence of the substring"
      ],
      "metadata": {
        "id": "JJqEOMpnqQnH"
      }
    },
    {
      "cell_type": "code",
      "source": [
        "str5 = 'Rajendran'\n",
        "str5.find('n')"
      ],
      "metadata": {
        "colab": {
          "base_uri": "https://localhost:8080/"
        },
        "id": "T7Fo_Vbmpu_3",
        "outputId": "5f9eea11-d0bb-430a-f645-f14baa46b0e0"
      },
      "execution_count": 5,
      "outputs": [
        {
          "output_type": "execute_result",
          "data": {
            "text/plain": [
              "4"
            ]
          },
          "metadata": {},
          "execution_count": 5
        }
      ]
    },
    {
      "cell_type": "markdown",
      "source": [
        "replace() is used to replace a substring with another in a string"
      ],
      "metadata": {
        "id": "3wlBl7Trqsmr"
      }
    },
    {
      "cell_type": "code",
      "source": [
        "str6 = 'rajendran'\n",
        "str6.replace('ran','raj')"
      ],
      "metadata": {
        "colab": {
          "base_uri": "https://localhost:8080/",
          "height": 35
        },
        "id": "_ENs9T0uqOYL",
        "outputId": "ed838473-12ab-43dc-cd22-a71702330158"
      },
      "execution_count": 7,
      "outputs": [
        {
          "output_type": "execute_result",
          "data": {
            "text/plain": [
              "'rajendraj'"
            ],
            "application/vnd.google.colaboratory.intrinsic+json": {
              "type": "string"
            }
          },
          "metadata": {},
          "execution_count": 7
        }
      ]
    },
    {
      "cell_type": "code",
      "source": [
        "name = input(\"What's your name ?\")\n",
        "str7 = \"Hello {}! What's up ?\".format(name)\n",
        "str7"
      ],
      "metadata": {
        "colab": {
          "base_uri": "https://localhost:8080/",
          "height": 52
        },
        "id": "k8oXtB1oq4Lj",
        "outputId": "bfd97196-23b6-4aad-e369-14ed7f59e190"
      },
      "execution_count": 11,
      "outputs": [
        {
          "name": "stdout",
          "output_type": "stream",
          "text": [
            "What's your name ?Raj\n"
          ]
        },
        {
          "output_type": "execute_result",
          "data": {
            "text/plain": [
              "\"Hello Raj! What's up ?\""
            ],
            "application/vnd.google.colaboratory.intrinsic+json": {
              "type": "string"
            }
          },
          "metadata": {},
          "execution_count": 11
        }
      ]
    },
    {
      "cell_type": "markdown",
      "source": [
        "strip() -\n",
        "Whitespace is the space before and/or after the actual text, and very often you want to remove this space.\n",
        "\n"
      ],
      "metadata": {
        "id": "Nr_Ry2KmspLV"
      }
    },
    {
      "cell_type": "code",
      "source": [
        "a = \"   Hello, World! \"\n",
        "print(a)\n",
        "print(a.strip())"
      ],
      "metadata": {
        "colab": {
          "base_uri": "https://localhost:8080/"
        },
        "id": "2eJj8qwnrMt2",
        "outputId": "a5e9898d-99cd-4d28-b0dc-77cbe866212a"
      },
      "execution_count": 17,
      "outputs": [
        {
          "output_type": "stream",
          "name": "stdout",
          "text": [
            "   Hello, World! \n",
            "Hello, World!\n"
          ]
        }
      ]
    },
    {
      "cell_type": "markdown",
      "source": [
        "The split() method returns a list where the text between the specified separator becomes the list items."
      ],
      "metadata": {
        "id": "rnQqWyxjs2ZZ"
      }
    },
    {
      "cell_type": "code",
      "source": [
        "a = \"Hello, World!\"\n",
        "print(a.split(\",\"))"
      ],
      "metadata": {
        "colab": {
          "base_uri": "https://localhost:8080/"
        },
        "id": "gRxhHNhbswne",
        "outputId": "97396048-98fc-4143-9745-8b4d439d86da"
      },
      "execution_count": 18,
      "outputs": [
        {
          "output_type": "stream",
          "name": "stdout",
          "text": [
            "['Hello', ' World!']\n"
          ]
        }
      ]
    },
    {
      "cell_type": "markdown",
      "source": [
        "For more string methods, check out : https://www.w3schools.com/python/python_strings_methods.asp"
      ],
      "metadata": {
        "id": "mbx1vKDbtHab"
      }
    },
    {
      "cell_type": "markdown",
      "source": [
        "##Encoding"
      ],
      "metadata": {
        "id": "bdZCVT7VtcAY"
      }
    },
    {
      "cell_type": "code",
      "source": [
        "txt = \"Γεια σας! Πώς είστε σήμερα;\" # Greek sentence\n",
        "\n",
        "x = txt.encode('utf-8')\n",
        "\n",
        "print(x)"
      ],
      "metadata": {
        "colab": {
          "base_uri": "https://localhost:8080/"
        },
        "id": "QIvcM1hns7Cj",
        "outputId": "717754b2-2e91-44e8-c3bd-37248c7b842b"
      },
      "execution_count": 23,
      "outputs": [
        {
          "output_type": "stream",
          "name": "stdout",
          "text": [
            "b'\\xce\\x93\\xce\\xb5\\xce\\xb9\\xce\\xb1 \\xcf\\x83\\xce\\xb1\\xcf\\x82! \\xce\\xa0\\xcf\\x8e\\xcf\\x82 \\xce\\xb5\\xce\\xaf\\xcf\\x83\\xcf\\x84\\xce\\xb5 \\xcf\\x83\\xce\\xae\\xce\\xbc\\xce\\xb5\\xcf\\x81\\xce\\xb1;'\n"
          ]
        }
      ]
    }
  ]
}